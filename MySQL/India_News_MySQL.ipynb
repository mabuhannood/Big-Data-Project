{
 "cells": [
  {
   "cell_type": "code",
   "execution_count": 3,
   "id": "7bd1d5b3",
   "metadata": {},
   "outputs": [],
   "source": [
    "from pyspark.sql import SparkSession\n",
    "\n",
    "spark = SparkSession.builder \\\n",
    "    .appName(\"Read MySQL Data\") \\\n",
    "    .config(\"spark.jars\", \"C:\\Users\\prana\\OneDrive\\Desktop\\AI Sem 1\\Big Data Tools 2\\mysql-connector-java-8.0.26.jar\") \\\n",
    "    .getOrCreate()\n",
    "\n"
   ]
  },
  {
   "cell_type": "code",
   "execution_count": null,
   "id": "f2db3d27",
   "metadata": {},
   "outputs": [],
   "source": [
    "mysql_url = \"jdbc:mysql://localhost:3306/your_database\"\n",
    "mysql_properties = {\n",
    "    \"user\": \"root\",\n",
    "    \"password\": \"mypassword\",\n",
    "    \"driver\": \"com.mysql.cj.jdbc.Driver\"\n",
    "}\n"
   ]
  },
  {
   "cell_type": "code",
   "execution_count": null,
   "id": "3ef1dd52",
   "metadata": {},
   "outputs": [],
   "source": [
    "df = spark.read.jdbc(url=mysql_url, table=\"your_table\", properties=mysql_properties)\n"
   ]
  },
  {
   "cell_type": "code",
   "execution_count": 4,
   "id": "bfb1e236",
   "metadata": {},
   "outputs": [],
   "source": [
    "from pyspark.sql.functions import col, to_date, regexp_replace\n",
    "\n",
    "# Extract the date part before the second comma\n",
    "df = df.withColumn(\"Date\", regexp_replace(col(\"Date\"), r\", [A-Za-z]+$\", \"\"))\n",
    "\n",
    "# Convert the Date column to DateType\n",
    "df = df.withColumn(\"Date\", to_date(col(\"Date\"), \"MMM dd, yyyy\"))\n",
    "\n",
    "# Reformat the date to yyyy-MM-dd\n",
    "df = df.withColumn(\"Date\", col(\"Date\").cast(\"string\"))\n"
   ]
  },
  {
   "cell_type": "code",
   "execution_count": 5,
   "id": "f3302ffe",
   "metadata": {},
   "outputs": [
    {
     "name": "stdout",
     "output_type": "stream",
     "text": [
      "+---------+---------------------------------------------------------------------------+----------+\n",
      "|RowNumber|Title                                                                      |Date      |\n",
      "+---------+---------------------------------------------------------------------------+----------+\n",
      "|0        |ATMs to become virtual bank branches, accept deposits with instant credit  |2020-05-26|\n",
      "|1        |IDFC First Bank seniors to forgo 65% of bonus amid Covid-19 crisis         |2020-05-26|\n",
      "|2        |Huge scam in YES Bank for many years, says Enforcement Directorate         |2020-05-25|\n",
      "|3        |Bank of Maharashtra sanctioned Rs 2,789 cr in loans to MSMEs in 3 months   |2020-05-24|\n",
      "|4        |DCB Bank's profit before tax declines 37.6% to Rs 93.84 crore in Q4        |2020-05-23|\n",
      "|5        |Bank of Baroda to advance Rs 12,000 crore to MSMEs under govt scheme       |2020-05-23|\n",
      "|6        |Retail, MSME loans to get cheaper as RBI cuts repo rate in surprise action |2020-05-22|\n",
      "|7        |RBI forecasts economic contraction, announces a sharp 40-bp rate cut       |2020-05-22|\n",
      "|8        |RBI extends loan moratorium till Aug 31, silent on one-time restructuring  |2020-05-22|\n",
      "|9        |Govt seeks to raise Rs 14,000 cr from second tranche of Bharat Bond ETF    |2020-05-22|\n",
      "|10       |Covid-19 crisis: Slippages may jump to Rs 5.5 trillion, says India Ratings |2020-05-22|\n",
      "|11       |Lockdown 4.0: Normalcy returning for shadow lenders, albeit at a slow pace |2020-05-22|\n",
      "|12       |Covid-19: Banking slippages may rise by Rs 5.5 trn this fiscal, says report|2020-05-21|\n",
      "|13       |FM Sitharaman to review banking situation, credit offtake with PSB chiefs  |2020-05-21|\n",
      "|14       |It will be a long road to recovery from Covid-19: Axis Bank chief          |2020-05-21|\n",
      "|15       |Bank credit growth slowed in Dec quarter on muted industrial demand        |2020-05-21|\n",
      "|16       |Covid-19 crisis: Banks seek relaxed NPA norms, moratorium extension        |2020-05-21|\n",
      "|17       |It may be time to change the way UCBs and NBFCs raise retail deposits      |2020-05-21|\n",
      "|18       |Govt to use RBI money to support struggling NBFCs for just three months    |2020-05-20|\n",
      "|19       |RBI may need to slash rates alongside providing fiscal stimulus: Economists|2020-05-20|\n",
      "+---------+---------------------------------------------------------------------------+----------+\n",
      "only showing top 20 rows\n",
      "\n"
     ]
    }
   ],
   "source": [
    "from pyspark.sql.functions import monotonically_increasing_id\n",
    "\n",
    "# Add a row number column\n",
    "df = df.withColumn(\"RowNumber\", monotonically_increasing_id())\n",
    "\n",
    "# Select and rename the required columns\n",
    "df = df.select(col(\"RowNumber\"), col(\"Title\"), col(\"Date\"))\n",
    "\n",
    "# Show the resulting DataFrame\n",
    "df.show(truncate=False)\n",
    "\n"
   ]
  },
  {
   "cell_type": "code",
   "execution_count": null,
   "id": "5cbd2508",
   "metadata": {},
   "outputs": [],
   "source": [
    "azure_sql_url = \"jdbc:sqlserver://alinizarserver1.database.windows.net:1433;database=myfirstdatabase;\"\n",
    "azure_sql_properties = {\n",
    "    \"user\": \"azureuser@alinizarserver1\",\n",
    "    \"password\": \"Ilove85workWonder69\",\n",
    "    \"driver\": \"com.microsoft.sqlserver.jdbc.SQLServerDriver\"\n",
    "}\n",
    "\n",
    "df = spark.read.jdbc(url=azure_sql_url, table=\"IndianFinancialArticles\", properties=azure_sql_properties)"
   ]
  },
  {
   "cell_type": "code",
   "execution_count": null,
   "id": "2bd4de82",
   "metadata": {},
   "outputs": [],
   "source": [
    "# Write DataFrame to Azure SQL Database\n",
    "df.write.jdbc(url=azure_sql_url, table=\"IndianFinancialArticles\", mode=\"overwrite\", properties=azure_sql_properties)"
   ]
  }
 ],
 "metadata": {
  "kernelspec": {
   "display_name": "Python 3 (ipykernel)",
   "language": "python",
   "name": "python3"
  },
  "language_info": {
   "codemirror_mode": {
    "name": "ipython",
    "version": 3
   },
   "file_extension": ".py",
   "mimetype": "text/x-python",
   "name": "python",
   "nbconvert_exporter": "python",
   "pygments_lexer": "ipython3",
   "version": "3.9.13"
  }
 },
 "nbformat": 4,
 "nbformat_minor": 5
}
